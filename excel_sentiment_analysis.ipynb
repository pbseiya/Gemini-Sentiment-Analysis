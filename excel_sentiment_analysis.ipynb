{
 "cells": [
  {
   "cell_type": "code",
   "execution_count": 1,
   "metadata": {},
   "outputs": [],
   "source": [
    "from dotenv import load_dotenv\n",
    "import os\n",
    "load_dotenv()\n",
    "API_KEY = os.getenv('Gemini_API_KEY')"
   ]
  },
  {
   "cell_type": "code",
   "execution_count": 9,
   "metadata": {},
   "outputs": [
    {
     "data": {
      "text/plain": [
       "'\\nAt the command line, only need to run once to install the package via pip:\\n \\n$ pip install google-generativeai\\n'"
      ]
     },
     "execution_count": 9,
     "metadata": {},
     "output_type": "execute_result"
    }
   ],
   "source": [
    "\"\"\"\n",
    "At the command line, only need to run once to install the package via pip:\n",
    " \n",
    "$ pip install google-generativeai\n",
    "\"\"\"\n",
    "# !pip install google-generativeai #รันครั้งแรกที่ใช้เท่านั้น หลังจากติดตั้งแล้วใส่ # ด้านหน้าสุดของบรรทัดได้เลย"
   ]
  },
  {
   "cell_type": "code",
   "execution_count": 2,
   "metadata": {},
   "outputs": [],
   "source": [
    "import google.generativeai as genai\n",
    " \n",
    "genai.configure(api_key=API_KEY)\n",
    " \n",
    "# Set up the model\n",
    "generation_config = {\n",
    "  \"temperature\": 0,\n",
    "  \"top_p\": 1,\n",
    "  \"top_k\": 1,\n",
    "  \"max_output_tokens\": 2048,\n",
    "}\n",
    " \n",
    "safety_settings = [\n",
    "  {\n",
    "    \"category\": \"HARM_CATEGORY_HARASSMENT\",\n",
    "    \"threshold\": \"BLOCK_MEDIUM_AND_ABOVE\"\n",
    "  },\n",
    "  {\n",
    "    \"category\": \"HARM_CATEGORY_HATE_SPEECH\",\n",
    "    \"threshold\": \"BLOCK_MEDIUM_AND_ABOVE\"\n",
    "  },\n",
    "  {\n",
    "    \"category\": \"HARM_CATEGORY_SEXUALLY_EXPLICIT\",\n",
    "    \"threshold\": \"BLOCK_MEDIUM_AND_ABOVE\"\n",
    "  },\n",
    "  {\n",
    "    \"category\": \"HARM_CATEGORY_DANGEROUS_CONTENT\",\n",
    "    \"threshold\": \"BLOCK_MEDIUM_AND_ABOVE\"\n",
    "  }\n",
    "]\n",
    " \n",
    "model = genai.GenerativeModel(model_name=\"gemini-pro\",\n",
    "                              generation_config=generation_config,\n",
    "                              safety_settings=safety_settings)\n",
    " \n"
   ]
  },
  {
   "cell_type": "code",
   "execution_count": 3,
   "metadata": {},
   "outputs": [],
   "source": [
    "import pandas as pd\n",
    "df = pd.read_excel('./Excel/Questionair.xlsx')\n",
    "prompt = \"สวมบทบาทเป็นผู้เชี่ยวชาญในการทำ Sentiment analysis โดยจะพิจารณาแบบการสรุปข้อความแล้วให้ความเห็นออกมาหนึ่งอย่างเท่านั้น โดยให้คำตอบ 4 รูปแบบด้วยกันคือ บวก ลบ กลาง และข้อเสนอแนะ จากข้อความนี้\""
   ]
  },
  {
   "cell_type": "code",
   "execution_count": 4,
   "metadata": {},
   "outputs": [
    {
     "name": "stdout",
     "output_type": "stream",
     "text": [
      "ดีมากแล้ว ช่วยให้การทำงานเป็นระบบดี: ระบบ Plant Model ช่วยให้การทำงานเป็นระบบมากขึ้น สามารถติดตามงานและความคืบหน้าได้ง่ายขึ้น บวก\n",
      "ใช้งานง่าย: หน้าจอระบบใช้งานง่าย เข้าใจง่าย ไม่ซับซ้อน บวก\n",
      "ฟีเจอร์ครบถ้วน: ระบบมีฟีเจอร์ครบถ้วน ตอบโจทย์การใช้งาน บวก\n",
      "ช่วยประหยัดเวลา: ระบบช่วยประหยัดเวลาในการทำงาน บวก\n",
      "สะดวก รวดเร็ว: ใช้งานสะดวก รวดเร็ว บวก\n",
      "บางครั้งระบบทำงานช้า: บางครั้งระบบทำงานช้า อาจจะเกิดจากปัญหาการเชื่อมต่ออินเตอร์เน็ต ลบ\n",
      "มีข้อผิดพลาดบ้าง: พบข้อผิดพลาดในระบบบ้างประปราย เช่น ข้อมูลไม่แสดงผล ลบ\n",
      "ฟีเจอร์บางตัวใช้งานยาก: ฟีเจอร์บางตัวใช้งานยาก ไม่ค่อยเข้าใจ ลบ\n",
      "ไม่ค่อยมีการอัปเดต: ระบบไม่ค่อยมีการอัปเดตฟีเจอร์ใหม่ ๆ ลบ\n",
      "หน้าจอไม่ค่อยสวยงาม: หน้าจอระบบดูเรียบง่าย ไม่ค่อยสวยงาม ลบ\n",
      "พัฒนาระบบให้ทำงานเร็วขึ้น: พัฒนาระบบให้ทำงานเร็วขึ้น โดยเฉพาะในช่วงที่มีผู้ใช้งานจำนวนมาก ข้อเสนอแนะ\n",
      "แก้ไขข้อผิดพลาด: แก้ไขข้อผิดพลาดในระบบ เช่น ข้อมูลไม่แสดงผล ข้อเสนอแนะ\n",
      "พัฒนาฟีเจอร์ให้ใช้งานง่าย: พัฒนาฟีเจอร์ให้ใช้งานง่าย เข้าใจง่าย บวก\n",
      "อัปเดตฟีเจอร์ใหม่ ๆ: อัปเดตฟีเจอร์ใหม่ ๆ อยู่เสมอ บวก\n",
      "ปรับปรุงหน้าจอให้สวยงาม: ปรับปรุงหน้าจอระบบให้สวยงาม น่าใช้งาน ข้อเสนอแนะ\n",
      "ระบบ Plant Model เป็นระบบที่มีประโยชน์มาก ช่วยให้การทำงานเป็นระบบมากขึ้น แต่ระบบยังมีข้อจำกัดบางประการ เช่น ระบบทำงานช้า และมีข้อผิดพลาดบ้าง หวังว่าทางผู้พัฒนาจะพัฒนาระบบให้ดียิ่งขึ้นต่อไป กลาง\n"
     ]
    }
   ],
   "source": [
    "results = []\n",
    "for comment in df['Comment']:\n",
    "    prompt_parts = [f\"{prompt} {comment}\"]\n",
    "    response = model.generate_content(prompt_parts)\n",
    "    print(comment, response.text)\n",
    "    results.append(response.text)"
   ]
  },
  {
   "cell_type": "code",
   "execution_count": null,
   "metadata": {},
   "outputs": [
    {
     "data": {
      "text/html": [
       "<div>\n",
       "<style scoped>\n",
       "    .dataframe tbody tr th:only-of-type {\n",
       "        vertical-align: middle;\n",
       "    }\n",
       "\n",
       "    .dataframe tbody tr th {\n",
       "        vertical-align: top;\n",
       "    }\n",
       "\n",
       "    .dataframe thead th {\n",
       "        text-align: right;\n",
       "    }\n",
       "</style>\n",
       "<table border=\"1\" class=\"dataframe\">\n",
       "  <thead>\n",
       "    <tr style=\"text-align: right;\">\n",
       "      <th></th>\n",
       "      <th>Comment</th>\n",
       "      <th>Sentiment</th>\n",
       "    </tr>\n",
       "  </thead>\n",
       "  <tbody>\n",
       "    <tr>\n",
       "      <th>0</th>\n",
       "      <td>ดีมากแล้ว ช่วยให้การทำงานเป็นระบบดี: ระบบ Plan...</td>\n",
       "      <td>บวก</td>\n",
       "    </tr>\n",
       "    <tr>\n",
       "      <th>1</th>\n",
       "      <td>ใช้งานง่าย: หน้าจอระบบใช้งานง่าย เข้าใจง่าย ไม...</td>\n",
       "      <td>บวก</td>\n",
       "    </tr>\n",
       "    <tr>\n",
       "      <th>2</th>\n",
       "      <td>ฟีเจอร์ครบถ้วน: ระบบมีฟีเจอร์ครบถ้วน ตอบโจทย์ก...</td>\n",
       "      <td>บวก</td>\n",
       "    </tr>\n",
       "    <tr>\n",
       "      <th>3</th>\n",
       "      <td>ช่วยประหยัดเวลา: ระบบช่วยประหยัดเวลาในการทำงาน</td>\n",
       "      <td>บวก</td>\n",
       "    </tr>\n",
       "    <tr>\n",
       "      <th>4</th>\n",
       "      <td>สะดวก รวดเร็ว: ใช้งานสะดวก รวดเร็ว</td>\n",
       "      <td>บวก</td>\n",
       "    </tr>\n",
       "    <tr>\n",
       "      <th>5</th>\n",
       "      <td>บางครั้งระบบทำงานช้า: บางครั้งระบบทำงานช้า อาจ...</td>\n",
       "      <td>ลบ</td>\n",
       "    </tr>\n",
       "    <tr>\n",
       "      <th>6</th>\n",
       "      <td>มีข้อผิดพลาดบ้าง: พบข้อผิดพลาดในระบบบ้างประปรา...</td>\n",
       "      <td>ลบ</td>\n",
       "    </tr>\n",
       "    <tr>\n",
       "      <th>7</th>\n",
       "      <td>ฟีเจอร์บางตัวใช้งานยาก: ฟีเจอร์บางตัวใช้งานยาก...</td>\n",
       "      <td>ลบ</td>\n",
       "    </tr>\n",
       "    <tr>\n",
       "      <th>8</th>\n",
       "      <td>ไม่ค่อยมีการอัปเดต: ระบบไม่ค่อยมีการอัปเดตฟีเจ...</td>\n",
       "      <td>ลบ</td>\n",
       "    </tr>\n",
       "    <tr>\n",
       "      <th>9</th>\n",
       "      <td>หน้าจอไม่ค่อยสวยงาม: หน้าจอระบบดูเรียบง่าย ไม่...</td>\n",
       "      <td>ลบ</td>\n",
       "    </tr>\n",
       "    <tr>\n",
       "      <th>10</th>\n",
       "      <td>พัฒนาระบบให้ทำงานเร็วขึ้น: พัฒนาระบบให้ทำงานเร...</td>\n",
       "      <td>ข้อเสนอแนะ</td>\n",
       "    </tr>\n",
       "    <tr>\n",
       "      <th>11</th>\n",
       "      <td>แก้ไขข้อผิดพลาด: แก้ไขข้อผิดพลาดในระบบ เช่น ข้...</td>\n",
       "      <td>ข้อเสนอแนะ</td>\n",
       "    </tr>\n",
       "    <tr>\n",
       "      <th>12</th>\n",
       "      <td>พัฒนาฟีเจอร์ให้ใช้งานง่าย: พัฒนาฟีเจอร์ให้ใช้ง...</td>\n",
       "      <td>บวก</td>\n",
       "    </tr>\n",
       "    <tr>\n",
       "      <th>13</th>\n",
       "      <td>อัปเดตฟีเจอร์ใหม่ ๆ: อัปเดตฟีเจอร์ใหม่ ๆ อยู่เสมอ</td>\n",
       "      <td>บวก</td>\n",
       "    </tr>\n",
       "    <tr>\n",
       "      <th>14</th>\n",
       "      <td>ปรับปรุงหน้าจอให้สวยงาม: ปรับปรุงหน้าจอระบบให้...</td>\n",
       "      <td>ข้อเสนอแนะ</td>\n",
       "    </tr>\n",
       "    <tr>\n",
       "      <th>15</th>\n",
       "      <td>ระบบ Plant Model เป็นระบบที่มีประโยชน์มาก ช่วย...</td>\n",
       "      <td>กลาง</td>\n",
       "    </tr>\n",
       "  </tbody>\n",
       "</table>\n",
       "</div>"
      ],
      "text/plain": [
       "                                              Comment   Sentiment\n",
       "0   ดีมากแล้ว ช่วยให้การทำงานเป็นระบบดี: ระบบ Plan...         บวก\n",
       "1   ใช้งานง่าย: หน้าจอระบบใช้งานง่าย เข้าใจง่าย ไม...         บวก\n",
       "2   ฟีเจอร์ครบถ้วน: ระบบมีฟีเจอร์ครบถ้วน ตอบโจทย์ก...         บวก\n",
       "3      ช่วยประหยัดเวลา: ระบบช่วยประหยัดเวลาในการทำงาน         บวก\n",
       "4                  สะดวก รวดเร็ว: ใช้งานสะดวก รวดเร็ว         บวก\n",
       "5   บางครั้งระบบทำงานช้า: บางครั้งระบบทำงานช้า อาจ...          ลบ\n",
       "6   มีข้อผิดพลาดบ้าง: พบข้อผิดพลาดในระบบบ้างประปรา...          ลบ\n",
       "7   ฟีเจอร์บางตัวใช้งานยาก: ฟีเจอร์บางตัวใช้งานยาก...          ลบ\n",
       "8   ไม่ค่อยมีการอัปเดต: ระบบไม่ค่อยมีการอัปเดตฟีเจ...          ลบ\n",
       "9   หน้าจอไม่ค่อยสวยงาม: หน้าจอระบบดูเรียบง่าย ไม่...          ลบ\n",
       "10  พัฒนาระบบให้ทำงานเร็วขึ้น: พัฒนาระบบให้ทำงานเร...  ข้อเสนอแนะ\n",
       "11  แก้ไขข้อผิดพลาด: แก้ไขข้อผิดพลาดในระบบ เช่น ข้...  ข้อเสนอแนะ\n",
       "12  พัฒนาฟีเจอร์ให้ใช้งานง่าย: พัฒนาฟีเจอร์ให้ใช้ง...         บวก\n",
       "13  อัปเดตฟีเจอร์ใหม่ ๆ: อัปเดตฟีเจอร์ใหม่ ๆ อยู่เสมอ         บวก\n",
       "14  ปรับปรุงหน้าจอให้สวยงาม: ปรับปรุงหน้าจอระบบให้...  ข้อเสนอแนะ\n",
       "15  ระบบ Plant Model เป็นระบบที่มีประโยชน์มาก ช่วย...        กลาง"
      ]
     },
     "execution_count": 6,
     "metadata": {},
     "output_type": "execute_result"
    }
   ],
   "source": [
    "df['Sentiment'] = pd.DataFrame(results)\n",
    "df"
   ]
  },
  {
   "cell_type": "code",
   "execution_count": null,
   "metadata": {},
   "outputs": [],
   "source": [
    "dst_file = 'Result.xlsx'\n",
    "df.to_excel(f'./Excel/{dst_file}', index=False)"
   ]
  }
 ],
 "metadata": {
  "kernelspec": {
   "display_name": "genai",
   "language": "python",
   "name": "python3"
  },
  "language_info": {
   "codemirror_mode": {
    "name": "ipython",
    "version": 3
   },
   "file_extension": ".py",
   "mimetype": "text/x-python",
   "name": "python",
   "nbconvert_exporter": "python",
   "pygments_lexer": "ipython3",
   "version": "3.10.13"
  },
  "orig_nbformat": 4
 },
 "nbformat": 4,
 "nbformat_minor": 2
}
